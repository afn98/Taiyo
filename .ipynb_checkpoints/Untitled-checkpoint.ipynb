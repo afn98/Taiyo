{
 "cells": [
  {
   "cell_type": "code",
   "execution_count": 189,
   "id": "58008535",
   "metadata": {},
   "outputs": [],
   "source": [
    "from selenium import webdriver\n",
    "from time import sleep\n",
    "from selenium.webdriver.common.by import By\n",
    "from bs4 import BeautifulSoup\n",
    "import requests\n",
    "import numpy as np\n",
    "import pandas as pd\n",
    "import numpy as np\n",
    "import csv\n",
    "import re"
   ]
  },
  {
   "cell_type": "code",
   "execution_count": 4,
   "id": "6391d2de",
   "metadata": {},
   "outputs": [
    {
     "name": "stderr",
     "output_type": "stream",
     "text": [
      "C:\\Users\\14-DH1~1\\AppData\\Local\\Temp/ipykernel_26556/3122305049.py:2: DeprecationWarning: executable_path has been deprecated, please pass in a Service object\n",
      "  browser = webdriver.Chrome(executable_path=path)\n"
     ]
    }
   ],
   "source": [
    "path = r'C:\\chromedriver.exe'\n",
    "browser = webdriver.Chrome(executable_path=path)\n",
    "browser.get('https://www.gov.uk/contracts-finder')"
   ]
  },
  {
   "cell_type": "code",
   "execution_count": 5,
   "id": "c70dd35f",
   "metadata": {},
   "outputs": [],
   "source": [
    "browser.maximize_window()"
   ]
  },
  {
   "cell_type": "code",
   "execution_count": 6,
   "id": "7ccb2649",
   "metadata": {},
   "outputs": [],
   "source": [
    "browser.find_element(By.XPATH, \"//a[contains(@class, 'gem-c-button')]\").click()"
   ]
  },
  {
   "cell_type": "code",
   "execution_count": 7,
   "id": "62c6291a",
   "metadata": {},
   "outputs": [],
   "source": [
    "browser.find_element(By.XPATH, \"//button[@id='adv_search']\").click()"
   ]
  },
  {
   "cell_type": "code",
   "execution_count": 15,
   "id": "15c0b25f",
   "metadata": {},
   "outputs": [],
   "source": [
    "pages = int(browser.find_element(By.CSS_SELECTOR, \"li[class=standard-paginate] a\").text)"
   ]
  },
  {
   "cell_type": "code",
   "execution_count": null,
   "id": "eee91df7",
   "metadata": {},
   "outputs": [],
   "source": [
    "tenders_list = []\n",
    "for i in range(pages-1):\n",
    "    for t, j in enumerate(browser.find_elements(By.CSS_SELECTOR, \"div.search-result\")):\n",
    "        r = requests.get(j.find_element(By.CSS_SELECTOR, \"div h2 a\").get_attribute('href'))\n",
    "        soup = BeautifulSoup(r.content, 'html.parser')\n",
    "        t_id = 20*(j-1)+ t\n",
    "        t_name = soup.find('h1').text\n",
    "        dept = soup.find('h2', {'class': 'breadcrumb-description'}).text\n",
    "        try:\n",
    "            edit = soup.find(lambda tag: tag.name=='p' and 'Last edited' in tag.text).text.replace('Last edited date: ','')\n",
    "        except:\n",
    "            edit = np.nan\n",
    "        opp = re.search('\\w+', soup.find(lambda tag: tag.name=='p' and 'opportunity -' in tag.text).text).group(0)\n",
    "        ind = '. '.join(soup.find('div', {'class':'content-block'}).ul.text.strip('\\n').split('\\n'))\n",
    "        loc = soup.find(lambda tag: tag.name=='h4' and 'Location of contract' in tag.text).next_sibling.next_sibling.text\n",
    "        val = soup.find(lambda tag: tag.name=='h4' and 'Value of contract' in tag.text).next_sibling.next_sibling.text\n",
    "        ref = soup.find(lambda tag: tag.name=='h4' and 'Procurement reference' in tag.text).next_sibling.next_sibling.text\n",
    "        pub = soup.find(lambda tag: tag.name=='h4' and 'Published date' in tag.text).next_sibling.next_sibling.text.strip()\n",
    "        close_d = soup.find(lambda tag: tag.name=='h4' and 'Closing date' in tag.text).next_sibling.next_sibling.text\n",
    "        close_t = soup.find(lambda tag: tag.name=='h4' and 'Closing time' in tag.text).next_sibling.next_sibling.text.strip()\n",
    "        start = soup.find(lambda tag: tag.name=='h4' and 'Contract start date' in tag.text).next_sibling.next_sibling.text.strip()\n",
    "        end = soup.find(lambda tag: tag.name=='h4' and 'Contract end date' in tag.text).next_sibling.next_sibling.text\n",
    "        c_type = soup.find(lambda tag: tag.name=='h4' and 'Contract type' in tag.text).next_sibling.next_sibling.text\n",
    "        pro_type = soup.find(lambda tag: tag.name=='h4' and 'Procedure type' in tag.text).next_sibling.next_sibling.text\n",
    "        sme = soup.find(lambda tag: tag.name=='h4' and 'Contract is suitable for SMEs?' in tag.text).next_sibling.next_sibling.text\n",
    "        vcse = soup.find(lambda tag: tag.name=='h4' and 'Contract is suitable for VCSEs?' in tag.text).next_sibling.next_sibling.text\n",
    "        desc = soup.find(lambda tag: tag.name=='h3' and 'Description' in tag.text).next_sibling.next_sibling.next_sibling.next_sibling.text\n",
    "        url = ', '.join([i.a['href'] for i in soup.find_all('dd')])\n",
    "        contact_name = soup.find(lambda tag: tag.name=='h4' and 'Contact name' in tag.text).next_sibling.next_sibling.text\n",
    "        addr_text = str(soup.find(lambda tag: tag.name=='h4' and 'Address' in tag.text).next_sibling.next_sibling)\n",
    "        addr = ', '.join(re.sub('<p>|</p>','', addr_text).split('<br/>'))\n",
    "        phone = soup.find(lambda tag: tag.name=='h4' and 'Telephone' in tag.text).next_sibling.next_sibling.text\n",
    "        email = soup.find(lambda tag: tag.name=='h4' and 'Email' in tag.text).next_sibling.next_sibling.text.strip('\\n')"
   ]
  },
  {
   "cell_type": "code",
   "execution_count": null,
   "id": "62bdcdc6",
   "metadata": {},
   "outputs": [],
   "source": []
  }
 ],
 "metadata": {
  "kernelspec": {
   "display_name": "Python 3 (ipykernel)",
   "language": "python",
   "name": "python3"
  },
  "language_info": {
   "codemirror_mode": {
    "name": "ipython",
    "version": 3
   },
   "file_extension": ".py",
   "mimetype": "text/x-python",
   "name": "python",
   "nbconvert_exporter": "python",
   "pygments_lexer": "ipython3",
   "version": "3.9.7"
  }
 },
 "nbformat": 4,
 "nbformat_minor": 5
}
